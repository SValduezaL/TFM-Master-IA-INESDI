{
 "cells": [
  {
   "cell_type": "code",
   "execution_count": 7,
   "metadata": {},
   "outputs": [
    {
     "name": "stdout",
     "output_type": "stream",
     "text": [
      "                 Metric  Modelo 1 (30%)  Modelo 2 (40%)\n",
      "0   True Positives (TP)     1031.000000       781.00000\n",
      "1   True Negatives (TN)     2781.000000      3229.00000\n",
      "2  False Positives (FP)      349.000000       599.00000\n",
      "3  False Negatives (FN)      962.000000       514.00000\n",
      "4        Beneficio Neto   275725.000000    155675.00000\n",
      "5                   ROI        0.618252         0.39812\n"
     ]
    }
   ],
   "source": [
    "import pandas as pd\n",
    "\n",
    "# Datos del Modelo 1 (30%) y Modelo 2 (40%) extraídos de la imagen\n",
    "data = {\n",
    "    'Metric': ['True Positives (TP)', 'True Negatives (TN)', 'False Positives (FP)', 'False Negatives (FN)', 'Beneficio Neto', 'ROI'],\n",
    "    'Modelo 1 (30%)': [1031, 2781, 349, 962, None, None],\n",
    "    'Modelo 2 (40%)': [781, 3229, 599, 514, None, None]\n",
    "}\n",
    "\n",
    "# Se crea un DataFrame con los datos\n",
    "df = pd.DataFrame(data)\n",
    "\n",
    "# Se calcula el Beneficio Neto para ambos modelos\n",
    "df.at[4, 'Modelo 1 (30%)'] = (df.at[0, 'Modelo 1 (30%)'] * 350) - (df.at[2, 'Modelo 1 (30%)'] * 175) - (df.at[3, 'Modelo 1 (30%)'] * 25)\n",
    "df.at[4, 'Modelo 2 (40%)'] = (df.at[0, 'Modelo 2 (40%)'] * 350) - (df.at[2, 'Modelo 2 (40%)'] * 175) - (df.at[3, 'Modelo 2 (40%)'] * 25)\n",
    "\n",
    "# Se calcula el Coste Total para ambos modelos\n",
    "coste_total_modelo_1 = (df.at[0, 'Modelo 1 (30%)'] * 350) + (df.at[2, 'Modelo 1 (30%)'] * 175) + (df.at[3, 'Modelo 1 (30%)'] * 25)\n",
    "coste_total_modelo_2 = (df.at[0, 'Modelo 2 (40%)'] * 350) + (df.at[2, 'Modelo 2 (40%)'] * 175) + (df.at[3, 'Modelo 2 (40%)'] * 25)\n",
    "\n",
    "# Se cakcula el ROI para ambos modelos, dividiendo el beneficio neto entre el coste total de cada modelo\n",
    "df.at[5, 'Modelo 1 (30%)'] = df.at[4, 'Modelo 1 (30%)'] / coste_total_modelo_1\n",
    "df.at[5, 'Modelo 2 (40%)'] = df.at[4, 'Modelo 2 (40%)'] / coste_total_modelo_2\n",
    "\n",
    "# Mostrar DataFrame\n",
    "print(df)"
   ]
  }
 ],
 "metadata": {
  "kernelspec": {
   "display_name": "tfm_master",
   "language": "python",
   "name": "python3"
  },
  "language_info": {
   "codemirror_mode": {
    "name": "ipython",
    "version": 3
   },
   "file_extension": ".py",
   "mimetype": "text/x-python",
   "name": "python",
   "nbconvert_exporter": "python",
   "pygments_lexer": "ipython3",
   "version": "3.11.9"
  }
 },
 "nbformat": 4,
 "nbformat_minor": 2
}
