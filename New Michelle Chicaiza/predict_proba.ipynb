{
 "cells": [
  {
   "cell_type": "code",
   "execution_count": 2,
   "metadata": {},
   "outputs": [
    {
     "name": "stdout",
     "output_type": "stream",
     "text": [
      "models\\modelo_tabnet_P1-ALL-ADASYN.pkl\n",
      "Modelo cargado exitosamente.\n",
      "[0.5952962  0.06775463 0.49617663 ... 0.04526761 0.09889632 0.435734  ]\n"
     ]
    },
    {
     "data": {
      "text/plain": [
       "array([0.5952962 , 0.06775463, 0.49617663, ..., 0.04526761, 0.09889632,\n",
       "       0.435734  ], dtype=float32)"
      ]
     },
     "execution_count": 2,
     "metadata": {},
     "output_type": "execute_result"
    }
   ],
   "source": [
    "# Se importan las librerías necesarias\n",
    "import os\n",
    "import joblib\n",
    "import numpy as np\n",
    "import pandas as pd\n",
    "\n",
    "def extraer_probabilidades_NoShow(X_text_file_name, dataset_name):\n",
    "    # Convertir los datos a numpy arrays si no lo están ya\n",
    "    X_test = joblib.load(X_text_file_name)\n",
    "    X_test = X_test.to_numpy() if hasattr(X_test, 'to_numpy') else X_test\n",
    "\n",
    "    # Carga del modelo\n",
    "    model_dir = 'models'\n",
    "    os.makedirs(model_dir, exist_ok=True)\n",
    "    model_filename = os.path.join(model_dir, f'modelo_tabnet_{dataset_name}.pkl')\n",
    "    print(model_filename)\n",
    "    model = joblib.load(model_filename)\n",
    "    print(\"Modelo cargado exitosamente.\")\n",
    "\n",
    "    # Evaluación de los datos de prueba\n",
    "    y_pred_test = model.predict_proba(X_test)[:, 1]\n",
    "    print(y_pred_test)\n",
    "\n",
    "    return y_pred_test\n",
    "\n",
    "extraer_probabilidades_NoShow(\"X_test_P1-ALL-ADASYN.pkl\", \"P1-ALL-ADASYN\")"
   ]
  }
 ],
 "metadata": {
  "kernelspec": {
   "display_name": "tfm_environment",
   "language": "python",
   "name": "python3"
  },
  "language_info": {
   "codemirror_mode": {
    "name": "ipython",
    "version": 3
   },
   "file_extension": ".py",
   "mimetype": "text/x-python",
   "name": "python",
   "nbconvert_exporter": "python",
   "pygments_lexer": "ipython3",
   "version": "3.12.4"
  }
 },
 "nbformat": 4,
 "nbformat_minor": 2
}
