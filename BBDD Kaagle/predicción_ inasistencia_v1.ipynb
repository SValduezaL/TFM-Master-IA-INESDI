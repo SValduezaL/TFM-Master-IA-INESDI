{
 "cells": [
  {
   "cell_type": "markdown",
   "metadata": {},
   "source": [
    "1) Se cargan las librerias necesarias"
   ]
  },
  {
   "cell_type": "code",
   "execution_count": 404,
   "metadata": {},
   "outputs": [],
   "source": [
    "# Manipulación de datos y operaciones básicas\n",
    "import numpy as np\n",
    "import pandas as pd\n",
    "\n",
    "# Visualización de datos\n",
    "import matplotlib.pyplot as plt\n",
    "import seaborn as sns\n",
    "\n",
    "# Preprocesamiento de datos\n",
    "from sklearn.preprocessing import LabelEncoder\n",
    "\n",
    "# Modelos de Machine Learning\n",
    "from sklearn.tree import DecisionTreeClassifier\n",
    "from sklearn.ensemble import RandomForestClassifier, RandomForestRegressor\n",
    "\n",
    "# Selección y validación de modelos\n",
    "from sklearn.model_selection import KFold, cross_val_predict, cross_val_score\n",
    "\n",
    "# Métricas de evaluación\n",
    "from sklearn.metrics import confusion_matrix, accuracy_score, precision_score, recall_score\n",
    "from sklearn.metrics import mean_squared_error, r2_score\n",
    "\n",
    "# Técnicas de balanceo de clases\n",
    "from imblearn.over_sampling import RandomOverSampler, SMOTE\n",
    "from imblearn.under_sampling import RandomUnderSampler\n",
    "from imblearn.pipeline import Pipeline\n",
    "\n"
   ]
  },
  {
   "cell_type": "markdown",
   "metadata": {},
   "source": [
    "2) Se carga la base de datos"
   ]
  },
  {
   "cell_type": "code",
   "execution_count": 405,
   "metadata": {},
   "outputs": [],
   "source": [
    "medical_appointments = pd.read_csv('Attendance of Medical Appointments in Brazil (may2016).csv')"
   ]
  },
  {
   "cell_type": "markdown",
   "metadata": {},
   "source": [
    "3. Visualizacion de datos"
   ]
  },
  {
   "cell_type": "code",
   "execution_count": 406,
   "metadata": {},
   "outputs": [
    {
     "data": {
      "text/plain": [
       "(110527, 14)"
      ]
     },
     "execution_count": 406,
     "metadata": {},
     "output_type": "execute_result"
    }
   ],
   "source": [
    "# Numero de filas y columnas\n",
    "medical_appointments.shape"
   ]
  },
  {
   "cell_type": "code",
   "execution_count": 407,
   "metadata": {},
   "outputs": [
    {
     "data": {
      "text/html": [
       "<div>\n",
       "<style scoped>\n",
       "    .dataframe tbody tr th:only-of-type {\n",
       "        vertical-align: middle;\n",
       "    }\n",
       "\n",
       "    .dataframe tbody tr th {\n",
       "        vertical-align: top;\n",
       "    }\n",
       "\n",
       "    .dataframe thead th {\n",
       "        text-align: right;\n",
       "    }\n",
       "</style>\n",
       "<table border=\"1\" class=\"dataframe\">\n",
       "  <thead>\n",
       "    <tr style=\"text-align: right;\">\n",
       "      <th></th>\n",
       "      <th>PatientId</th>\n",
       "      <th>AppointmentID</th>\n",
       "      <th>Gender</th>\n",
       "      <th>ScheduledDay</th>\n",
       "      <th>AppointmentDay</th>\n",
       "      <th>Age</th>\n",
       "      <th>Neighbourhood</th>\n",
       "      <th>Scholarship</th>\n",
       "      <th>Hipertension</th>\n",
       "      <th>Diabetes</th>\n",
       "      <th>Alcoholism</th>\n",
       "      <th>Handcap</th>\n",
       "      <th>SMS_received</th>\n",
       "      <th>No-show</th>\n",
       "    </tr>\n",
       "  </thead>\n",
       "  <tbody>\n",
       "    <tr>\n",
       "      <th>0</th>\n",
       "      <td>2.987250e+13</td>\n",
       "      <td>5642903</td>\n",
       "      <td>F</td>\n",
       "      <td>2016-04-29T18:38:08Z</td>\n",
       "      <td>2016-04-29T00:00:00Z</td>\n",
       "      <td>62</td>\n",
       "      <td>JARDIM DA PENHA</td>\n",
       "      <td>0</td>\n",
       "      <td>1</td>\n",
       "      <td>0</td>\n",
       "      <td>0</td>\n",
       "      <td>0</td>\n",
       "      <td>0</td>\n",
       "      <td>No</td>\n",
       "    </tr>\n",
       "    <tr>\n",
       "      <th>1</th>\n",
       "      <td>5.589978e+14</td>\n",
       "      <td>5642503</td>\n",
       "      <td>M</td>\n",
       "      <td>2016-04-29T16:08:27Z</td>\n",
       "      <td>2016-04-29T00:00:00Z</td>\n",
       "      <td>56</td>\n",
       "      <td>JARDIM DA PENHA</td>\n",
       "      <td>0</td>\n",
       "      <td>0</td>\n",
       "      <td>0</td>\n",
       "      <td>0</td>\n",
       "      <td>0</td>\n",
       "      <td>0</td>\n",
       "      <td>No</td>\n",
       "    </tr>\n",
       "    <tr>\n",
       "      <th>2</th>\n",
       "      <td>4.262962e+12</td>\n",
       "      <td>5642549</td>\n",
       "      <td>F</td>\n",
       "      <td>2016-04-29T16:19:04Z</td>\n",
       "      <td>2016-04-29T00:00:00Z</td>\n",
       "      <td>62</td>\n",
       "      <td>MATA DA PRAIA</td>\n",
       "      <td>0</td>\n",
       "      <td>0</td>\n",
       "      <td>0</td>\n",
       "      <td>0</td>\n",
       "      <td>0</td>\n",
       "      <td>0</td>\n",
       "      <td>No</td>\n",
       "    </tr>\n",
       "    <tr>\n",
       "      <th>3</th>\n",
       "      <td>8.679512e+11</td>\n",
       "      <td>5642828</td>\n",
       "      <td>F</td>\n",
       "      <td>2016-04-29T17:29:31Z</td>\n",
       "      <td>2016-04-29T00:00:00Z</td>\n",
       "      <td>8</td>\n",
       "      <td>PONTAL DE CAMBURI</td>\n",
       "      <td>0</td>\n",
       "      <td>0</td>\n",
       "      <td>0</td>\n",
       "      <td>0</td>\n",
       "      <td>0</td>\n",
       "      <td>0</td>\n",
       "      <td>No</td>\n",
       "    </tr>\n",
       "    <tr>\n",
       "      <th>4</th>\n",
       "      <td>8.841186e+12</td>\n",
       "      <td>5642494</td>\n",
       "      <td>F</td>\n",
       "      <td>2016-04-29T16:07:23Z</td>\n",
       "      <td>2016-04-29T00:00:00Z</td>\n",
       "      <td>56</td>\n",
       "      <td>JARDIM DA PENHA</td>\n",
       "      <td>0</td>\n",
       "      <td>1</td>\n",
       "      <td>1</td>\n",
       "      <td>0</td>\n",
       "      <td>0</td>\n",
       "      <td>0</td>\n",
       "      <td>No</td>\n",
       "    </tr>\n",
       "  </tbody>\n",
       "</table>\n",
       "</div>"
      ],
      "text/plain": [
       "      PatientId  AppointmentID Gender          ScheduledDay  \\\n",
       "0  2.987250e+13        5642903      F  2016-04-29T18:38:08Z   \n",
       "1  5.589978e+14        5642503      M  2016-04-29T16:08:27Z   \n",
       "2  4.262962e+12        5642549      F  2016-04-29T16:19:04Z   \n",
       "3  8.679512e+11        5642828      F  2016-04-29T17:29:31Z   \n",
       "4  8.841186e+12        5642494      F  2016-04-29T16:07:23Z   \n",
       "\n",
       "         AppointmentDay  Age      Neighbourhood  Scholarship  Hipertension  \\\n",
       "0  2016-04-29T00:00:00Z   62    JARDIM DA PENHA            0             1   \n",
       "1  2016-04-29T00:00:00Z   56    JARDIM DA PENHA            0             0   \n",
       "2  2016-04-29T00:00:00Z   62      MATA DA PRAIA            0             0   \n",
       "3  2016-04-29T00:00:00Z    8  PONTAL DE CAMBURI            0             0   \n",
       "4  2016-04-29T00:00:00Z   56    JARDIM DA PENHA            0             1   \n",
       "\n",
       "   Diabetes  Alcoholism  Handcap  SMS_received No-show  \n",
       "0         0           0        0             0      No  \n",
       "1         0           0        0             0      No  \n",
       "2         0           0        0             0      No  \n",
       "3         0           0        0             0      No  \n",
       "4         1           0        0             0      No  "
      ]
     },
     "execution_count": 407,
     "metadata": {},
     "output_type": "execute_result"
    }
   ],
   "source": [
    "# Encabezados\n",
    "medical_appointments.head()"
   ]
  },
  {
   "cell_type": "code",
   "execution_count": 408,
   "metadata": {},
   "outputs": [
    {
     "name": "stdout",
     "output_type": "stream",
     "text": [
      "PatientId         float64\n",
      "AppointmentID       int64\n",
      "Gender             object\n",
      "ScheduledDay       object\n",
      "AppointmentDay     object\n",
      "Age                 int64\n",
      "Neighbourhood      object\n",
      "Scholarship         int64\n",
      "Hipertension        int64\n",
      "Diabetes            int64\n",
      "Alcoholism          int64\n",
      "Handcap             int64\n",
      "SMS_received        int64\n",
      "No-show            object\n",
      "dtype: object\n"
     ]
    }
   ],
   "source": [
    "# Tipo de datos\n",
    "data_types = medical_appointments.dtypes\n",
    "print(data_types)\n"
   ]
  },
  {
   "cell_type": "code",
   "execution_count": 409,
   "metadata": {},
   "outputs": [
    {
     "name": "stdout",
     "output_type": "stream",
     "text": [
      "PatientId          62299\n",
      "AppointmentID     110527\n",
      "Gender                 2\n",
      "ScheduledDay      103549\n",
      "AppointmentDay        27\n",
      "Age                  104\n",
      "Neighbourhood         81\n",
      "Scholarship            2\n",
      "Hipertension           2\n",
      "Diabetes               2\n",
      "Alcoholism             2\n",
      "Handcap                5\n",
      "SMS_received           2\n",
      "No-show                2\n",
      "dtype: int64\n"
     ]
    }
   ],
   "source": [
    "# Numero de valores unicos por columna\n",
    "column_counts = medical_appointments.nunique()\n",
    "print(column_counts)"
   ]
  },
  {
   "cell_type": "code",
   "execution_count": 410,
   "metadata": {},
   "outputs": [
    {
     "data": {
      "image/png": "[encoded data removed]",
      "text/plain": [
       "<Figure size 640x480 with 1 Axes>"
      ]
     },
     "metadata": {},
     "output_type": "display_data"
    }
   ],
   "source": [
    "# Distribución del dataset\n",
    "class_counts = medical_appointments['No-show'].value_counts()\n",
    "class_counts.plot(kind='bar', rot=0)\n",
    "plt.xlabel('No-show')\n",
    "plt.ylabel('Numero de pacientes')\n",
    "plt.title('Distribución de No-show en el dataset')\n",
    "for i, count in enumerate(class_counts):\n",
    "    plt.text(i, count, f'{count} ({count / len(medical_appointments) * 100:.2f}%)', ha='center', va='bottom')\n",
    "plt.show()"
   ]
  },
  {
   "cell_type": "code",
   "execution_count": 411,
   "metadata": {},
   "outputs": [
    {
     "name": "stdout",
     "output_type": "stream",
     "text": [
      "PatientId         0\n",
      "AppointmentID     0\n",
      "Gender            0\n",
      "ScheduledDay      0\n",
      "AppointmentDay    0\n",
      "Age               0\n",
      "Neighbourhood     0\n",
      "Scholarship       0\n",
      "Hipertension      0\n",
      "Diabetes          0\n",
      "Alcoholism        0\n",
      "Handcap           0\n",
      "SMS_received      0\n",
      "No-show           0\n",
      "dtype: int64\n"
     ]
    }
   ],
   "source": [
    "# Evaluar presencia de Missing values\n",
    "missing_values = medical_appointments.isnull().sum()\n",
    "print(missing_values)"
   ]
  },
  {
   "cell_type": "markdown",
   "metadata": {},
   "source": [
    "4. Feature Engeniering"
   ]
  },
  {
   "cell_type": "code",
   "execution_count": 419,
   "metadata": {},
   "outputs": [
    {
     "data": {
      "text/html": [
       "<div>\n",
       "<style scoped>\n",
       "    .dataframe tbody tr th:only-of-type {\n",
       "        vertical-align: middle;\n",
       "    }\n",
       "\n",
       "    .dataframe tbody tr th {\n",
       "        vertical-align: top;\n",
       "    }\n",
       "\n",
       "    .dataframe thead th {\n",
       "        text-align: right;\n",
       "    }\n",
       "</style>\n",
       "<table border=\"1\" class=\"dataframe\">\n",
       "  <thead>\n",
       "    <tr style=\"text-align: right;\">\n",
       "      <th></th>\n",
       "      <th>PatientId</th>\n",
       "      <th>AppointmentID</th>\n",
       "      <th>Gender</th>\n",
       "      <th>ScheduledDay</th>\n",
       "      <th>AppointmentDay</th>\n",
       "      <th>Age</th>\n",
       "      <th>Neighbourhood</th>\n",
       "      <th>Scholarship</th>\n",
       "      <th>Hipertension</th>\n",
       "      <th>Diabetes</th>\n",
       "      <th>Alcoholism</th>\n",
       "      <th>Handcap</th>\n",
       "      <th>SMS_received</th>\n",
       "      <th>No-show</th>\n",
       "    </tr>\n",
       "  </thead>\n",
       "  <tbody>\n",
       "    <tr>\n",
       "      <th>0</th>\n",
       "      <td>2.987250e+13</td>\n",
       "      <td>5642903</td>\n",
       "      <td>0</td>\n",
       "      <td>20160429</td>\n",
       "      <td>20160429</td>\n",
       "      <td>62</td>\n",
       "      <td>39</td>\n",
       "      <td>0</td>\n",
       "      <td>1</td>\n",
       "      <td>0</td>\n",
       "      <td>0</td>\n",
       "      <td>0</td>\n",
       "      <td>0</td>\n",
       "      <td>0</td>\n",
       "    </tr>\n",
       "    <tr>\n",
       "      <th>1</th>\n",
       "      <td>5.589978e+14</td>\n",
       "      <td>5642503</td>\n",
       "      <td>1</td>\n",
       "      <td>20160429</td>\n",
       "      <td>20160429</td>\n",
       "      <td>56</td>\n",
       "      <td>39</td>\n",
       "      <td>0</td>\n",
       "      <td>0</td>\n",
       "      <td>0</td>\n",
       "      <td>0</td>\n",
       "      <td>0</td>\n",
       "      <td>0</td>\n",
       "      <td>0</td>\n",
       "    </tr>\n",
       "    <tr>\n",
       "      <th>2</th>\n",
       "      <td>4.262962e+12</td>\n",
       "      <td>5642549</td>\n",
       "      <td>0</td>\n",
       "      <td>20160429</td>\n",
       "      <td>20160429</td>\n",
       "      <td>62</td>\n",
       "      <td>45</td>\n",
       "      <td>0</td>\n",
       "      <td>0</td>\n",
       "      <td>0</td>\n",
       "      <td>0</td>\n",
       "      <td>0</td>\n",
       "      <td>0</td>\n",
       "      <td>0</td>\n",
       "    </tr>\n",
       "    <tr>\n",
       "      <th>3</th>\n",
       "      <td>8.679512e+11</td>\n",
       "      <td>5642828</td>\n",
       "      <td>0</td>\n",
       "      <td>20160429</td>\n",
       "      <td>20160429</td>\n",
       "      <td>8</td>\n",
       "      <td>54</td>\n",
       "      <td>0</td>\n",
       "      <td>0</td>\n",
       "      <td>0</td>\n",
       "      <td>0</td>\n",
       "      <td>0</td>\n",
       "      <td>0</td>\n",
       "      <td>0</td>\n",
       "    </tr>\n",
       "    <tr>\n",
       "      <th>4</th>\n",
       "      <td>8.841186e+12</td>\n",
       "      <td>5642494</td>\n",
       "      <td>0</td>\n",
       "      <td>20160429</td>\n",
       "      <td>20160429</td>\n",
       "      <td>56</td>\n",
       "      <td>39</td>\n",
       "      <td>0</td>\n",
       "      <td>1</td>\n",
       "      <td>1</td>\n",
       "      <td>0</td>\n",
       "      <td>0</td>\n",
       "      <td>0</td>\n",
       "      <td>0</td>\n",
       "    </tr>\n",
       "  </tbody>\n",
       "</table>\n",
       "</div>"
      ],
      "text/plain": [
       "      PatientId  AppointmentID  Gender  ScheduledDay  AppointmentDay  Age  \\\n",
       "0  2.987250e+13        5642903       0      20160429        20160429   62   \n",
       "1  5.589978e+14        5642503       1      20160429        20160429   56   \n",
       "2  4.262962e+12        5642549       0      20160429        20160429   62   \n",
       "3  8.679512e+11        5642828       0      20160429        20160429    8   \n",
       "4  8.841186e+12        5642494       0      20160429        20160429   56   \n",
       "\n",
       "   Neighbourhood  Scholarship  Hipertension  Diabetes  Alcoholism  Handcap  \\\n",
       "0             39            0             1         0           0        0   \n",
       "1             39            0             0         0           0        0   \n",
       "2             45            0             0         0           0        0   \n",
       "3             54            0             0         0           0        0   \n",
       "4             39            0             1         1           0        0   \n",
       "\n",
       "   SMS_received  No-show  \n",
       "0             0        0  \n",
       "1             0        0  \n",
       "2             0        0  \n",
       "3             0        0  \n",
       "4             0        0  "
      ]
     },
     "execution_count": 419,
     "metadata": {},
     "output_type": "execute_result"
    }
   ],
   "source": [
    "from sklearn.preprocessing import LabelEncoder\n",
    "# Crear una copia del dataset original\n",
    "medical_appointments_transformed = medical_appointments.copy()\n",
    "\n",
    "# Transformar las fechas a formato datetime\n",
    "medical_appointments_transformed['ScheduledDay'] = pd.to_datetime(medical_appointments_transformed['ScheduledDay'])\n",
    "medical_appointments_transformed['AppointmentDay'] = pd.to_datetime(medical_appointments_transformed['AppointmentDay'])\n",
    "\n",
    "# Se convierten las fechas a numeros\n",
    "medical_appointments_transformed['ScheduledDay'] = medical_appointments_transformed['ScheduledDay'].dt.strftime('%Y%m%d').astype(int)\n",
    "medical_appointments_transformed['AppointmentDay'] = medical_appointments_transformed['AppointmentDay'].dt.strftime('%Y%m%d').astype(int)\n",
    "\n",
    "# Crear una instancia de la clase LabelEncoder\n",
    "label_encoder = LabelEncoder()\n",
    "\n",
    "# Convertir las columnas object a numericas\n",
    "medical_appointments_transformed['Gender'] = label_encoder.fit_transform(medical_appointments_transformed['Gender'])\n",
    "medical_appointments_transformed['No-show'] = label_encoder.fit_transform(medical_appointments_transformed['No-show'])\n",
    "medical_appointments_transformed['Neighbourhood'] = label_encoder.fit_transform(medical_appointments_transformed['Neighbourhood'])\n",
    "\n",
    "# VIsualizar los cambios\n",
    "medical_appointments_transformed.head()"
   ]
  },
  {
   "cell_type": "code",
   "execution_count": 413,
   "metadata": {},
   "outputs": [
    {
     "name": "stdout",
     "output_type": "stream",
     "text": [
      "PatientId         float64\n",
      "AppointmentID       int64\n",
      "Gender              int64\n",
      "ScheduledDay        int64\n",
      "AppointmentDay      int64\n",
      "Age                 int64\n",
      "Neighbourhood       int64\n",
      "Scholarship         int64\n",
      "Hipertension        int64\n",
      "Diabetes            int64\n",
      "Alcoholism          int64\n",
      "Handcap             int64\n",
      "SMS_received        int64\n",
      "No-show             int64\n",
      "dtype: object\n"
     ]
    }
   ],
   "source": [
    "#Verificar tipo de datos\n",
    "data_types = medical_appointments_transformed.dtypes\n",
    "print(data_types)"
   ]
  },
  {
   "cell_type": "markdown",
   "metadata": {},
   "source": [
    "5. Entrneammiento de DecisionTreeClassifier"
   ]
  },
  {
   "cell_type": "code",
   "execution_count": 414,
   "metadata": {},
   "outputs": [
    {
     "name": "stdout",
     "output_type": "stream",
     "text": [
      "Accuracy: 0.7039999276194957\n",
      "Precision: 0.2758204321014274\n",
      "Recall: 0.2865719790313186\n"
     ]
    },
    {
     "data": {
      "image/png": "[encoded data removed]",
      "text/plain": [
       "<Figure size 640x480 with 2 Axes>"
      ]
     },
     "metadata": {},
     "output_type": "display_data"
    }
   ],
   "source": [
    "# Se define la variable objetivo y las variables predictoras\n",
    "X = medical_appointments_transformed.drop('No-show', axis=1)\n",
    "y = medical_appointments_transformed['No-show']\n",
    "\n",
    "# Crear una instancia de DecisionTreeClassifier\n",
    "clf_tree = DecisionTreeClassifier()\n",
    "\n",
    "# Se realiza la validación cruzada para obtener predicciones para todo el conjunto de datos\n",
    "y_pred = cross_val_predict(clf_tree, X, y, cv=5)\n",
    "\n",
    "# Se crea una matriz de confusión\n",
    "confusion_mat = confusion_matrix(y, y_pred)\n",
    "labels = ['Asiste', 'No-show']\n",
    "sns.heatmap(confusion_mat, annot=True, fmt='d', cmap='Blues', xticklabels=labels, yticklabels=labels)\n",
    "\n",
    "# Configuración del gráfico\n",
    "plt.title('Matriz de Confusión')\n",
    "plt.xlabel('Valor Predicho')\n",
    "plt.ylabel('Valor Real')\n",
    "\n",
    "# Se calculan las métricas de evaluación\n",
    "accuracy = accuracy_score(y, y_pred)\n",
    "precision = precision_score(y, y_pred, pos_label=1)\n",
    "recall = recall_score(y, y_pred, pos_label=1)\n",
    "\n",
    "print(\"Accuracy:\", accuracy)\n",
    "print(\"Precision:\", precision)\n",
    "print(\"Recall:\", recall)\n",
    "plt.show()"
   ]
  },
  {
   "cell_type": "markdown",
   "metadata": {},
   "source": [
    "6. Balanceo de clases"
   ]
  },
  {
   "cell_type": "code",
   "execution_count": 415,
   "metadata": {},
   "outputs": [
    {
     "data": {
      "text/plain": [
       "Text(0.5, 1.0, 'Distribución de No-show en el dataset')"
      ]
     },
     "execution_count": 415,
     "metadata": {},
     "output_type": "execute_result"
    },
    {
     "data": {
      "image/png": "[encoded data removed]",
      "text/plain": [
       "<Figure size 640x480 with 1 Axes>"
      ]
     },
     "metadata": {},
     "output_type": "display_data"
    }
   ],
   "source": [
    "# Se crea una instancia de SMOTE\n",
    "smote = SMOTE(sampling_strategy='auto', random_state=42)\n",
    "\n",
    "# Se aplica SMOTE a los datos\n",
    "rus = RandomUnderSampler(sampling_strategy='auto', random_state=42)\n",
    "\n",
    "# Se crea una instancia de la clase Pipeline\n",
    "pipeline = Pipeline([('smote', smote), ('rus', rus)])\n",
    "\n",
    "# Se aplica el pipeline a los datos\n",
    "X_balanced, y_balanced = pipeline.fit_resample(X, y)\n",
    "\n",
    "# Se grafica la distribución de las clases\n",
    "class_counts = y_balanced.value_counts()\n",
    "class_counts.plot(kind='bar', rot=0)\n",
    "plt.xlabel('No-show')\n",
    "plt.ylabel('Numero de pacientes')\n",
    "plt.title('Distribución de No-show en el dataset')"
   ]
  },
  {
   "cell_type": "markdown",
   "metadata": {},
   "source": [
    "7. Entrenamiento de DecisionTreeClassifier (Datos balanceados)"
   ]
  },
  {
   "cell_type": "code",
   "execution_count": 416,
   "metadata": {},
   "outputs": [
    {
     "name": "stdout",
     "output_type": "stream",
     "text": [
      "Accuracy (Datos Balanceados): 0.7098505804462181\n",
      "Precision (Datos Balanceados): 0.6787228085081731\n",
      "Recall (Datos Balanceados): 0.7969345184110285\n"
     ]
    },
    {
     "data": {
      "image/png": "[encoded data removed]",
      "text/plain": [
       "<Figure size 640x480 with 2 Axes>"
      ]
     },
     "metadata": {},
     "output_type": "display_data"
    }
   ],
   "source": [
    "# Crear una instancia de DecisionTreeClassifier\n",
    "clf_tree_balanced = DecisionTreeClassifier()\n",
    "\n",
    "# Realizar la validación cruzada para obtener predicciones para todo el conjunto de datos balanceados\n",
    "y_pred_balanced = cross_val_predict(clf_tree_balanced, X_balanced, y_balanced, cv=5)\n",
    "\n",
    "# Se crea una matriz de confusión\n",
    "confusion_mat_balanced = confusion_matrix(y_balanced, y_pred_balanced)\n",
    "labels = ['Asiste', 'No-show']\n",
    "sns.heatmap(confusion_mat_balanced, annot=True, fmt='d', cmap='Reds', xticklabels=labels, yticklabels=labels)\n",
    "\n",
    "# Configuración del gráfico\n",
    "plt.title('Matriz de Confusión (Datos Balanceados)')\n",
    "plt.xlabel('Valor Predicho')\n",
    "plt.ylabel('Valor Real')\n",
    "\n",
    "# Se calculan las métricas de evaluación\n",
    "accuracy_balanced = accuracy_score(y_balanced, y_pred_balanced)\n",
    "precision_balanced = precision_score(y_balanced, y_pred_balanced, pos_label=1) \n",
    "recall_balanced = recall_score(y_balanced, y_pred_balanced, pos_label=1)\n",
    "\n",
    "print(\"Accuracy (Datos Balanceados):\", accuracy_balanced)\n",
    "print(\"Precision (Datos Balanceados):\", precision_balanced)\n",
    "print(\"Recall (Datos Balanceados):\", recall_balanced)\n",
    "plt.show()\n"
   ]
  },
  {
   "cell_type": "markdown",
   "metadata": {},
   "source": [
    "8. Entrneamiento de random forest Classifier"
   ]
  },
  {
   "cell_type": "code",
   "execution_count": 417,
   "metadata": {},
   "outputs": [
    {
     "name": "stdout",
     "output_type": "stream",
     "text": [
      "Accuracy (Datos Balanceados): 0.7098505804462181\n",
      "Precision (Datos Balanceados): 0.6787228085081731\n",
      "Recall (Datos Balanceados): 0.7969345184110285\n"
     ]
    },
    {
     "data": {
      "image/png": "[encoded data removed]",
      "text/plain": [
       "<Figure size 640x480 with 2 Axes>"
      ]
     },
     "metadata": {},
     "output_type": "display_data"
    },
    {
     "name": "stdout",
     "output_type": "stream",
     "text": [
      "[[54933 33275]\n",
      " [17912 70296]]\n"
     ]
    }
   ],
   "source": [
    "# Crear una instancia de RandomForestClassifier con parámetros predeterminados\n",
    "rf_balanced = RandomForestClassifier(\n",
    "    n_estimators=100,     # Numero de arboles\n",
    "    max_depth=20,         # Profundidad del arbol, evita el sobreajuste\n",
    "    min_samples_split=4,  # Aumentar este valor puede ayudar a evitar que el modelo se sobreajuste a los datos de entrenamiento.\n",
    "    min_samples_leaf=2,   # Un valor más alto ayuda a suavizar el modelo, especialmente en problemas de clasificación.\n",
    "    max_features='sqrt',  # Reducir el número de características consideradas para las divisiones puede hacer que el modelo sea más robusto.\n",
    "    random_state=42,      # Fijar una semilla para reproducibilidad.\n",
    "    class_weight='balanced'  # Clasees balanceadas\n",
    ")\n",
    "\n",
    "# Realizar la validación cruzada para obtener predicciones para todo el conjunto de datos\n",
    "y_pred_prob_balanced = cross_val_predict(rf_balanced, X_balanced, y_balanced, cv=5, method='predict_proba')\n",
    "\n",
    "# Se crea una matriz de confusión\n",
    "confusion_mat_balanced = confusion_matrix(y_balanced, y_pred_balanced)\n",
    "labels = ['Asiste', 'No-show']\n",
    "sns.heatmap(confusion_mat_balanced, annot=True, fmt='d', cmap='Greens', xticklabels=labels, yticklabels=labels)\n",
    "\n",
    "# Configuración del gráfico\n",
    "plt.title('Matriz de Confusión RandomForest Classifier')\n",
    "plt.xlabel('Valor Predicho')\n",
    "plt.ylabel('Valor Real')\n",
    "\n",
    "# Se calculan las métricas de evaluación\n",
    "accuracy_balanced = accuracy_score(y_balanced, y_pred_balanced)\n",
    "precision_balanced = precision_score(y_balanced, y_pred_balanced)\n",
    "recall_balanced = recall_score(y_balanced, y_pred_balanced)\n",
    "\n",
    "print(\"Accuracy (Datos Balanceados):\", accuracy_balanced)\n",
    "print(\"Precision (Datos Balanceados):\", precision_balanced)\n",
    "print(\"Recall (Datos Balanceados):\", recall_balanced)\n",
    "plt.show()\n",
    "print(confusion_mat_balanced)"
   ]
  },
  {
   "cell_type": "code",
   "execution_count": 418,
   "metadata": {},
   "outputs": [
    {
     "data": {
      "text/html": [
       "<div>\n",
       "<style scoped>\n",
       "    .dataframe tbody tr th:only-of-type {\n",
       "        vertical-align: middle;\n",
       "    }\n",
       "\n",
       "    .dataframe tbody tr th {\n",
       "        vertical-align: top;\n",
       "    }\n",
       "\n",
       "    .dataframe thead th {\n",
       "        text-align: right;\n",
       "    }\n",
       "</style>\n",
       "<table border=\"1\" class=\"dataframe\">\n",
       "  <thead>\n",
       "    <tr style=\"text-align: right;\">\n",
       "      <th></th>\n",
       "      <th>UserId</th>\n",
       "      <th>Probabilidad_Inasistencia</th>\n",
       "    </tr>\n",
       "  </thead>\n",
       "  <tbody>\n",
       "    <tr>\n",
       "      <th>0</th>\n",
       "      <td>Ellipsis</td>\n",
       "      <td>0.792699</td>\n",
       "    </tr>\n",
       "    <tr>\n",
       "      <th>1</th>\n",
       "      <td>Ellipsis</td>\n",
       "      <td>0.933294</td>\n",
       "    </tr>\n",
       "    <tr>\n",
       "      <th>2</th>\n",
       "      <td>Ellipsis</td>\n",
       "      <td>0.941492</td>\n",
       "    </tr>\n",
       "    <tr>\n",
       "      <th>3</th>\n",
       "      <td>Ellipsis</td>\n",
       "      <td>0.939950</td>\n",
       "    </tr>\n",
       "    <tr>\n",
       "      <th>4</th>\n",
       "      <td>Ellipsis</td>\n",
       "      <td>0.725366</td>\n",
       "    </tr>\n",
       "    <tr>\n",
       "      <th>5</th>\n",
       "      <td>Ellipsis</td>\n",
       "      <td>0.913456</td>\n",
       "    </tr>\n",
       "    <tr>\n",
       "      <th>6</th>\n",
       "      <td>Ellipsis</td>\n",
       "      <td>0.889445</td>\n",
       "    </tr>\n",
       "    <tr>\n",
       "      <th>7</th>\n",
       "      <td>Ellipsis</td>\n",
       "      <td>0.966454</td>\n",
       "    </tr>\n",
       "    <tr>\n",
       "      <th>8</th>\n",
       "      <td>Ellipsis</td>\n",
       "      <td>0.992056</td>\n",
       "    </tr>\n",
       "    <tr>\n",
       "      <th>9</th>\n",
       "      <td>Ellipsis</td>\n",
       "      <td>0.943549</td>\n",
       "    </tr>\n",
       "  </tbody>\n",
       "</table>\n",
       "</div>"
      ],
      "text/plain": [
       "     UserId  Probabilidad_Inasistencia\n",
       "0  Ellipsis                   0.792699\n",
       "1  Ellipsis                   0.933294\n",
       "2  Ellipsis                   0.941492\n",
       "3  Ellipsis                   0.939950\n",
       "4  Ellipsis                   0.725366\n",
       "5  Ellipsis                   0.913456\n",
       "6  Ellipsis                   0.889445\n",
       "7  Ellipsis                   0.966454\n",
       "8  Ellipsis                   0.992056\n",
       "9  Ellipsis                   0.943549"
      ]
     },
     "execution_count": 418,
     "metadata": {},
     "output_type": "execute_result"
    }
   ],
   "source": [
    "# Se obtiene la probabilidad de inasistencia\n",
    "prob_inasistencia = y_pred_prob_balanced[:, 1]\n",
    "user_ids = ...\n",
    "usuarios_prob_df = pd.DataFrame({'UserId': user_ids, 'Probabilidad_Inasistencia': prob_inasistencia})\n",
    "\n",
    "# Se exporta a un archivo CSV\n",
    "usuarios_prob_df.to_csv('listado_probabilidad_inasistencia.csv', index=False)\n",
    "\n",
    "# Se carga el archivo CSV\n",
    "usuarios_prob_df = pd.read_csv('listado_probabilidad_inasistencia.csv')\n",
    "usuarios_prob_df.head(10)"
   ]
  }
 ],
 "metadata": {
  "kernelspec": {
   "display_name": "base",
   "language": "python",
   "name": "python3"
  },
  "language_info": {
   "codemirror_mode": {
    "name": "ipython",
    "version": 3
   },
   "file_extension": ".py",
   "mimetype": "text/x-python",
   "name": "python",
   "nbconvert_exporter": "python",
   "pygments_lexer": "ipython3",
   "version": "3.11.5"
  }
 },
 "nbformat": 4,
 "nbformat_minor": 2
}
